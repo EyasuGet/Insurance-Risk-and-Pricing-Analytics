{
 "cells": [
  {
   "cell_type": "markdown",
   "id": "a148d0c3",
   "metadata": {},
   "source": [
    "# Data Quality Assessment\n",
    "# Checking for missing values, duplicates, and category consistency"
   ]
  },
  {
   "cell_type": "code",
   "execution_count": null,
   "id": "d469a69c",
   "metadata": {},
   "outputs": [],
   "source": [
    "import pandas as pd\n",
    "df = pd.read_csv('../data/insurance_claims.csv')"
   ]
  },
  {
   "cell_type": "markdown",
   "id": "5eff21fa",
   "metadata": {},
   "source": [
    "## Missing values"
   ]
  },
  {
   "cell_type": "code",
   "execution_count": null,
   "id": "f02d74ef",
   "metadata": {},
   "outputs": [],
   "source": [
    "missing = df.isnull().sum().sort_values(ascending=False)"
   ]
  },
  {
   "cell_type": "markdown",
   "id": "f72f92d8",
   "metadata": {},
   "source": [
    "## Duplicates"
   ]
  },
  {
   "cell_type": "code",
   "execution_count": null,
   "id": "9956ed57",
   "metadata": {},
   "outputs": [],
   "source": [
    "duplicates = df.duplicated().sum()\n",
    "print(f'Duplicated rows: {duplicates}')"
   ]
  },
  {
   "cell_type": "markdown",
   "id": "cd7d77d6",
   "metadata": {},
   "source": [
    "## Unique values in key categorical columns"
   ]
  },
  {
   "cell_type": "code",
   "execution_count": null,
   "id": "2fa13920",
   "metadata": {},
   "outputs": [],
   "source": [
    "for col in ['Province', 'Gender', 'VehicleType', 'PostalCode']\n",
    "print(f'{col}:', df[col].unique())"
   ]
  }
 ],
 "metadata": {
  "kernelspec": {
   "display_name": ".venv",
   "language": "python",
   "name": "python3"
  },
  "language_info": {
   "name": "python",
   "version": "3.12.3"
  }
 },
 "nbformat": 4,
 "nbformat_minor": 5
}
