{
 "cells": [
  {
   "cell_type": "markdown",
   "id": "653d4e72",
   "metadata": {},
   "source": [
    "# Bivariate & Multivariate Analysis\n",
    "## Exploring relationships between features."
   ]
  },
  {
   "cell_type": "code",
   "execution_count": null,
   "id": "63018433",
   "metadata": {},
   "outputs": [],
   "source": [
    "import pandas as pd\n",
    "import matplotlib.pyplot as plt\n",
    "import seaborn as sns\n",
    "df = pd.read_csv('../data/insurance_claims.csv')"
   ]
  },
  {
   "cell_type": "markdown",
   "id": "4daa8aa5",
   "metadata": {},
   "source": [
    "## Correlation matrix (numeric features)"
   ]
  },
  {
   "cell_type": "code",
   "execution_count": null,
   "id": "73ff4d91",
   "metadata": {},
   "outputs": [],
   "source": [
    "plt.figure(figsize=(8,6))\n",
    "sns.heatmap(df[['TotalPremium', 'TotalClaims', 'CustomValueEstimate']].corr(), annot=True, cmap='coolwarm')\n",
    "plt.title('Correlation Matrix')\n",
    "plt.show()\n"
   ]
  },
  {
   "cell_type": "markdown",
   "id": "b7d69678",
   "metadata": {},
   "source": [
    "## Scatter plot: TotalPremium vs TotalClaims by Province"
   ]
  },
  {
   "cell_type": "code",
   "execution_count": null,
   "id": "a13ccdb1",
   "metadata": {},
   "outputs": [],
   "source": [
    "plt.figure(figsize=(10,6))\n",
    "sns.scatterplot(data=df, x='TotalPremium', y='TotalClaims', hue='Province', alpha=0.5)\n",
    "plt.title('TotalPremium vs TotalClaims by Province')\n",
    "plt.show()"
   ]
  },
  {
   "cell_type": "markdown",
   "id": "32f14da6",
   "metadata": {},
   "source": [
    "## Boxplot: TotalClaims by Gender"
   ]
  },
  {
   "cell_type": "code",
   "execution_count": null,
   "id": "4bb3c466",
   "metadata": {},
   "outputs": [],
   "source": [
    "plt.figure(figsize=(8,5))\n",
    "sns.boxplot(x='Gender', y='TotalClaims', data=df)\n",
    "plt.title('TotalClaims by Gender')\n",
    "plt.show()"
   ]
  }
 ],
 "metadata": {
  "kernelspec": {
   "display_name": ".venv",
   "language": "python",
   "name": "python3"
  },
  "language_info": {
   "name": "python",
   "version": "3.12.3"
  }
 },
 "nbformat": 4,
 "nbformat_minor": 5
}
