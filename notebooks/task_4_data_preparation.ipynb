{
 "cells": [
  {
   "cell_type": "code",
   "execution_count": 1,
   "id": "0707fd03",
   "metadata": {},
   "outputs": [
    {
     "name": "stderr",
     "output_type": "stream",
     "text": [
      "/tmp/ipykernel_106118/2850386653.py:5: DtypeWarning: Columns (32,37) have mixed types. Specify dtype option on import or set low_memory=False.\n",
      "  df = pd.read_csv(\"../data/MachineLearningRating_v3.txt\", delimiter=\"|\")\n"
     ]
    },
    {
     "name": "stdout",
     "output_type": "stream",
     "text": [
      "Training shape: (2230, 388)\n",
      "Testing shape: (558, 388)\n"
     ]
    }
   ],
   "source": [
    "import pandas as pd\n",
    "from sklearn.model_selection import train_test_split\n",
    "\n",
    "# Reload data (optional)\n",
    "df = pd.read_csv(\"../data/MachineLearningRating_v3.txt\", delimiter=\"|\")\n",
    "\n",
    "# Filter to only rows where a claim occurred\n",
    "df_claims = df[df['TotalClaims'] > 0].copy()\n",
    "\n",
    "# Drop columns that are identifiers or mostly irrelevant for severity\n",
    "cols_to_drop = [\n",
    "    'UnderwrittenCoverID', 'PolicyID', 'TransactionMonth', 'Title', 'Language',\n",
    "    'Bank', 'Product', 'Country', 'ItemType', 'Model', 'VehicleIntroDate'\n",
    "]\n",
    "df_claims.drop(columns=cols_to_drop, inplace=True, errors='ignore')\n",
    "\n",
    "# Remove target column from features\n",
    "target = 'TotalClaims'\n",
    "\n",
    "# Identify categorical columns\n",
    "categorical_cols = df_claims.select_dtypes(include='object').columns.tolist()\n",
    "\n",
    "# One-hot encode categoricals (drop_first=True to avoid dummy variable trap)\n",
    "df_encoded = pd.get_dummies(df_claims, columns=categorical_cols, drop_first=True)\n",
    "\n",
    "# Fill any remaining missing values\n",
    "df_encoded.fillna(0, inplace=True)\n",
    "\n",
    "# Split features and target\n",
    "X = df_encoded.drop(columns=[target])\n",
    "y = df_encoded[target]\n",
    "\n",
    "# Train-test split\n",
    "X_train, X_test, y_train, y_test = train_test_split(X, y, test_size=0.2, random_state=42)\n",
    "\n",
    "print(\"Training shape:\", X_train.shape)\n",
    "print(\"Testing shape:\", X_test.shape)\n"
   ]
  },
  {
   "cell_type": "code",
   "execution_count": null,
   "id": "fb105f3b",
   "metadata": {},
   "outputs": [],
   "source": [
    "from sklearn.linear_model import LinearRegression\n",
    "from sklearn.ensemble import RandomForestRegressor\n",
    "from xgboost import XGBRegressor\n",
    "from sklearn.metrics import mean_squared_error, r2_score\n",
    "import numpy as np\n",
    "\n",
    "# Store results\n",
    "results = {}\n",
    "\n",
    "def evaluate_model(model, name):\n",
    "    model.fit(X_train, y_train)\n",
    "    y_pred = model.predict(X_test)\n",
    "    rmse = np.sqrt(mean_squared_error(y_test, y_pred))\n",
    "    r2 = r2_score(y_test, y_pred)\n",
    "    results[name] = {\"RMSE\": rmse, \"R²\": r2}\n",
    "    print(f\"\\n{name}\")\n",
    "    print(\"RMSE:\", rmse)\n",
    "    print(\"R²:\", r2)\n",
    "\n",
    "# 1. Linear Regression\n",
    "linreg = LinearRegression()\n",
    "evaluate_model(linreg, \"Linear Regression\")\n",
    "\n",
    "# 2. Random Forest\n",
    "rf = RandomForestRegressor(n_estimators=100, random_state=42)\n",
    "evaluate_model(rf, \"Random Forest\")\n",
    "\n",
    "# 3. XGBoost\n",
    "xgb = XGBRegressor(n_estimators=100, learning_rate=0.1, max_depth=4, random_state=42)\n",
    "evaluate_model(xgb, \"XGBoost\")\n"
   ]
  }
 ],
 "metadata": {
  "kernelspec": {
   "display_name": ".venv",
   "language": "python",
   "name": "python3"
  },
  "language_info": {
   "codemirror_mode": {
    "name": "ipython",
    "version": 3
   },
   "file_extension": ".py",
   "mimetype": "text/x-python",
   "name": "python",
   "nbconvert_exporter": "python",
   "pygments_lexer": "ipython3",
   "version": "3.12.3"
  }
 },
 "nbformat": 4,
 "nbformat_minor": 5
}
