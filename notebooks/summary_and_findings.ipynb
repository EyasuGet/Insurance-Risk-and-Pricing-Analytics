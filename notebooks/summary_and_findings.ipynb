{
 "cells": [
  {
   "cell_type": "markdown",
   "id": "3cc7fd65",
   "metadata": {},
   "source": [
    "# Outlier Detection & Visualization\\n\",\n",
    "## Detecting and visualizing outliers in numerical columns."
   ]
  },
  {
   "cell_type": "code",
   "execution_count": null,
   "id": "8a9c0288",
   "metadata": {},
   "outputs": [],
   "source": [
    "import pandas as pd\n",
    "import matplotlib.pyplot as plt\n",
    "import seaborn as sns\n",
    "df = pd.read_csv('../data/insurance_claims.csv')"
   ]
  },
  {
   "cell_type": "markdown",
   "id": "ff8f7307",
   "metadata": {},
   "source": [
    "## Box plots for numeric features"
   ]
  },
  {
   "cell_type": "code",
   "execution_count": null,
   "id": "6fdc1590",
   "metadata": {},
   "outputs": [],
   "source": [
    "num_cols = ['TotalPremium', 'TotalClaims', 'CustomValueEstimate']\n",
    "for col in num_cols:\n",
    "    plt.figure(figsize=(6,4))\n",
    "    sns.boxplot(x=df[col])\n",
    "    plt.title(f'Boxplot of {col}')\n",
    "    plt.show()"
   ]
  },
  {
   "cell_type": "markdown",
   "id": "b9248e1a",
   "metadata": {},
   "source": []
  },
  {
   "cell_type": "code",
   "execution_count": null,
   "id": "0b2f29be",
   "metadata": {},
   "outputs": [],
   "source": []
  },
  {
   "cell_type": "markdown",
   "id": "b3f89879",
   "metadata": {},
   "source": []
  },
  {
   "cell_type": "code",
   "execution_count": null,
   "id": "e1ddb2d3",
   "metadata": {},
   "outputs": [],
   "source": []
  },
  {
   "cell_type": "markdown",
   "id": "281e8339",
   "metadata": {},
   "source": []
  },
  {
   "cell_type": "code",
   "execution_count": null,
   "id": "2988506c",
   "metadata": {},
   "outputs": [],
   "source": []
  }
 ],
 "metadata": {
  "kernelspec": {
   "display_name": ".venv",
   "language": "python",
   "name": "python3"
  },
  "language_info": {
   "name": "python",
   "version": "3.12.3"
  }
 },
 "nbformat": 4,
 "nbformat_minor": 5
}
