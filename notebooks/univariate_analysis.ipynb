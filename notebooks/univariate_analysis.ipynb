{
 "cells": [
  {
   "cell_type": "markdown",
   "id": "cc398dcc",
   "metadata": {},
   "source": [
    "# Univariate Analysis\n",
    "## Distribution plots for key variables"
   ]
  },
  {
   "cell_type": "code",
   "execution_count": null,
   "id": "66847bb7",
   "metadata": {},
   "outputs": [],
   "source": [
    "import pandas as pd\n",
    "import matplotlib.pyplot as plt\n",
    "import seaborn as sns\n",
    "df = pd.read_csv('../data/insurance_claims.csv')"
   ]
  },
  {
   "cell_type": "markdown",
   "id": "1be2d45d",
   "metadata": {},
   "source": [
    "## Numeric features: Histograms"
   ]
  },
  {
   "cell_type": "code",
   "execution_count": null,
   "id": "16d79929",
   "metadata": {},
   "outputs": [],
   "source": [
    "num_cols = ['TotalPremium', 'TotalClaims', 'CustomValueEstimate']\n",
    "for col in num_cols:\n",
    "    plt.figure(figsize=(6,4))\n",
    "    sns.histplot(df[col].dropna(), kde=True)\n",
    "    plt.title(f'Distribution of {col}')\n",
    "    plt.show()"
   ]
  },
  {
   "cell_type": "markdown",
   "id": "99395289",
   "metadata": {},
   "source": [
    "## Categorical features: Bar plots"
   ]
  },
  {
   "cell_type": "code",
   "execution_count": null,
   "id": "643395f6",
   "metadata": {},
   "outputs": [],
   "source": [
    "cat_cols = ['Province', 'Gender', 'VehicleType']\n",
    "for col in cat_cols:\n",
    "    plt.figure(figsize=(6,4))\n",
    "    df[col].value_counts().plot(kind='bar')\n",
    "    plt.title(f'Counts of {col}')\n",
    "    plt.show()"
   ]
  }
 ],
 "metadata": {
  "kernelspec": {
   "display_name": ".venv",
   "language": "python",
   "name": "python3"
  },
  "language_info": {
   "name": "python",
   "version": "3.12.3"
  }
 },
 "nbformat": 4,
 "nbformat_minor": 5
}
