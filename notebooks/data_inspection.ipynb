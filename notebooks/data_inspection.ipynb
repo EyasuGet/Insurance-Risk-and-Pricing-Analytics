{
 "cells": [
  {
   "cell_type": "markdown",
   "id": "bb6afbb6",
   "metadata": {},
   "source": [
    "# Initial loading and inspection of the insurance claims dataset"
   ]
  },
  {
   "cell_type": "code",
   "execution_count": null,
   "id": "3f98a3a5",
   "metadata": {},
   "outputs": [],
   "source": [
    "import pandas as pd\n",
    "df = pd.read_csv('../data/insurance_claims.csv')\n",
    "df.head()"
   ]
  },
  {
   "cell_type": "markdown",
   "id": "9193e9ca",
   "metadata": {},
   "source": [
    "## Check column data types and basic info"
   ]
  },
  {
   "cell_type": "code",
   "execution_count": null,
   "id": "9ffcfee9",
   "metadata": {},
   "outputs": [],
   "source": [
    "df.info()"
   ]
  },
  {
   "cell_type": "markdown",
   "id": "734f773e",
   "metadata": {},
   "source": [
    "## Preview summary statistics for numeric columns"
   ]
  },
  {
   "cell_type": "code",
   "execution_count": null,
   "id": "588a8f74",
   "metadata": {},
   "outputs": [],
   "source": [
    "df.describe()"
   ]
  }
 ],
 "metadata": {
  "kernelspec": {
   "display_name": ".venv",
   "language": "python",
   "name": "python3"
  },
  "language_info": {
   "name": "python",
   "version": "3.12.3"
  }
 },
 "nbformat": 4,
 "nbformat_minor": 5
}
